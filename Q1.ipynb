{
 "cells": [
  {
   "cell_type": "markdown",
   "id": "1b46fe41",
   "metadata": {},
   "source": [
    "<h1 align=\"center\">Introduction to Machine Learning - Course Code: 25737</h1>\n",
    "<h4 align=\"center\">Instructor: Dr. Amiri</h4>\n",
    "<h4 align=\"center\">Sharif University of Technology, Spring 2024</h4>\n",
    "<h4 align=\"center\">Computer Assignment 3</h4>\n",
    "<h4 align=\"center\">\n",
    "\n",
    "Question 1\n",
    "\n",
    "</h4>"
   ]
  },
  {
   "cell_type": "markdown",
   "id": "24a0fc13",
   "metadata": {
    "id": "a6c2fd6d"
   },
   "source": [
    "# Personal Data"
   ]
  },
  {
   "cell_type": "code",
   "execution_count": 1,
   "id": "44babb65",
   "metadata": {
    "id": "4e90a030"
   },
   "outputs": [],
   "source": [
    "# Set your student number\n",
    "student_number = 99101581\n",
    "Name = 'Daniyal'\n",
    "Last_Name = 'Rasti'"
   ]
  },
  {
   "cell_type": "markdown",
   "id": "ca4a337a",
   "metadata": {
    "id": "339da203"
   },
   "source": [
    "# Rules\n",
    "- You are not allowed to add or remove cells. You **must use the provided space to write your code**. If you don't follow this rule, **your Practical Assignment won't be graded**.  \n",
    "\n",
    "- Collaboration and using the internet is allowed, but your code **must be written by yourself**. **Copying code** from each other or from available resources will result in a **zero score for the assignment**.\n",
    "\n",
    "- You are not allowed to use `torch.nn`, `torch.optim` and any activation function and loss function implemented in torch. "
   ]
  },
  {
   "cell_type": "code",
   "execution_count": 2,
   "id": "12b76789",
   "metadata": {
    "id": "881f2e4c"
   },
   "outputs": [],
   "source": [
    "# !pip install numpy\n",
    "# !pip install matplotlib\n",
    "# !pip install torchvision\n",
    "# !pip install torch"
   ]
  },
  {
   "cell_type": "markdown",
   "id": "886188c7",
   "metadata": {},
   "source": [
    "## Importing Libraries"
   ]
  },
  {
   "cell_type": "code",
   "execution_count": 3,
   "id": "55a0adcc",
   "metadata": {},
   "outputs": [
    {
     "name": "stderr",
     "output_type": "stream",
     "text": [
      "d:\\Apps\\Anaconda\\Lib\\site-packages\\torchvision\\io\\image.py:13: UserWarning: Failed to load image Python extension: '[WinError 127] The specified procedure could not be found'If you don't plan on using image functionality from `torchvision.io`, you can ignore this warning. Otherwise, there might be something wrong with your environment. Did you have `libjpeg` or `libpng` installed before building `torchvision` from source?\n",
      "  warn(\n"
     ]
    }
   ],
   "source": [
    "import torch\n",
    "from torchvision.datasets import FashionMNIST\n",
    "from torchvision import transforms\n",
    "from torch.utils.data import DataLoader\n",
    "\n",
    "import numpy as np\n",
    "from matplotlib import pyplot as plt\n",
    "from typing import Dict"
   ]
  },
  {
   "cell_type": "markdown",
   "id": "18510868",
   "metadata": {},
   "source": [
    "## Datasets and Dataloaders\n",
    "\n",
    "Here, we download and load the train and test `FashionMNIST` dataset with the desired transforms. Then, we define the dataloaders for `train` and `test`."
   ]
  },
  {
   "cell_type": "code",
   "execution_count": 4,
   "id": "dc8759e2",
   "metadata": {},
   "outputs": [],
   "source": [
    "train_set = FashionMNIST(root='.', train=True, download=True, transform=transforms.ToTensor())\n",
    "test_set = FashionMNIST(root='.', train=False, download=True, transform=transforms.ToTensor())"
   ]
  },
  {
   "cell_type": "markdown",
   "id": "5df47fcb",
   "metadata": {},
   "source": [
    "\n",
    "Here you have to calculate the number of classes amd input dimention of the first layer (how many pixels does each image have?)."
   ]
  },
  {
   "cell_type": "code",
   "execution_count": 5,
   "id": "8f6763e6",
   "metadata": {},
   "outputs": [
    {
     "name": "stdout",
     "output_type": "stream",
     "text": [
      "number of unique labels:  10\n",
      "input_dimension (number of pixels):  784\n"
     ]
    }
   ],
   "source": [
    "## FILL HERE\n",
    "# iterating through all data to count unique labels\n",
    "unique_labels = set()\n",
    "for sample in train_set:\n",
    "    unique_labels.add(sample[1])\n",
    "print (\"number of unique labels: \", len(unique_labels))\n",
    "\n",
    "input_dim = train_set[0][0].numel()\n",
    "print (\"input_dimension (number of pixels): \", input_dim)\n",
    "\n"
   ]
  },
  {
   "cell_type": "code",
   "execution_count": 6,
   "id": "c695ff60",
   "metadata": {},
   "outputs": [],
   "source": [
    "train_loader = DataLoader(train_set, 64, shuffle=True)\n",
    "test_loader = DataLoader(test_set, 64, shuffle=True)"
   ]
  },
  {
   "cell_type": "markdown",
   "id": "f9dac6c2",
   "metadata": {},
   "source": [
    "## Visualization\n",
    "\n",
    "Visualize 1 random image from each class by using `plt.subplots`"
   ]
  },
  {
   "cell_type": "code",
   "execution_count": 7,
   "id": "e3d6b0c1",
   "metadata": {},
   "outputs": [
    {
     "data": {
      "image/png": "[encoded data removed]",
      "text/plain": [
       "<Figure size 640x480 with 10 Axes>"
      ]
     },
     "metadata": {},
     "output_type": "display_data"
    }
   ],
   "source": [
    "import random \n",
    "\n",
    "# this function returns indecies of all datapoints of each label\n",
    "def get_indices_of_each_label(dataset, label_count):\n",
    "    indices = [[] for _ in range (label_count)] # initiating\n",
    "    # indices is a list of lists, indecies[i] is list of all indecies of datapoints with label i\n",
    "    for i, (_, label) in enumerate(dataset):\n",
    "        indices[label].append(i)\n",
    "    return indices\n",
    "\n",
    "indices = get_indices_of_each_label(train_set,len(unique_labels))\n",
    "\n",
    "for label in range(len(unique_labels)):\n",
    "    # getting a random sample of a specific label\n",
    "    random_index = random.choice(indices[label])\n",
    "    random_sample , _ = train_set[random_index]\n",
    "    # plotting random sample\n",
    "    image = random_sample.permute(1, 2, 0)\n",
    "    plt.subplot(2,5,label+1)\n",
    "    plt.gca().set_xticklabels([])\n",
    "    plt.gca().set_yticklabels([])\n",
    "    plt.title(\"label : \"+str(label))\n",
    "    plt.imshow(image,cmap=\"gray\")\n",
    "plt.show()\n",
    "\n"
   ]
  },
  {
   "cell_type": "markdown",
   "id": "a94c5aba",
   "metadata": {},
   "source": [
    "## Initializing model's parameters\n",
    "\n",
    "In this part, we create the model and initialize its parameters and store the values of these parameters in the variable `parameters` which is a dictionary including the weigths and biases of each layer."
   ]
  },
  {
   "cell_type": "code",
   "execution_count": 8,
   "id": "e6d40952",
   "metadata": {},
   "outputs": [],
   "source": [
    "def add_linear_layer(parameters: dict, shape, device, i=None):\n",
    "    \"\"\"\n",
    "    This function adds parameters of a linear unit of shape `shape` to the `parameters` dictionary.\n",
    "    \"\"\"\n",
    "    n_in, n_out = shape\n",
    "    with torch.no_grad():\n",
    "        w = torch.zeros(*shape, device=device)\n",
    "        # kaiming initialization for ReLU activations:\n",
    "        bound = 1 / np.sqrt(n_in).item()\n",
    "        w.uniform_(-bound, bound)\n",
    "        b = torch.zeros(n_out, device=device)  # no need to (1, n_out). it will broadcast itself.\n",
    "    w.requires_grad = True\n",
    "    b.requires_grad = True\n",
    "    # `i` is used to give numbers to parameter names\n",
    "    parameters.update({f'w{i}': w, f'b{i}': b})"
   ]
  },
  {
   "cell_type": "markdown",
   "id": "ce914706",
   "metadata": {},
   "source": [
    "Now we define our neural network with the given layers and add the weights and biases to the dictionary `parameters`. **You are allowed to modify the values of the layers**."
   ]
  },
  {
   "cell_type": "code",
   "execution_count": 9,
   "id": "8f3867d7",
   "metadata": {},
   "outputs": [
    {
     "data": {
      "text/plain": [
       "dict_keys(['w0', 'b0', 'w1', 'b1', 'w2', 'b2', 'w3', 'b3', 'w4', 'b4'])"
      ]
     },
     "execution_count": 9,
     "metadata": {},
     "output_type": "execute_result"
    }
   ],
   "source": [
    "# input_dim : input dimention of the first layer, which you have calculated before.\n",
    "num_classes = len(unique_labels)\n",
    "layers = [\n",
    "    (input_dim, 512),\n",
    "    (512, 256),\n",
    "    (256, 128),\n",
    "    (128, 64),\n",
    "    (64, num_classes)\n",
    "]\n",
    "num_layers = len(layers)\n",
    "parameters = {}\n",
    "\n",
    "# setting the device\n",
    "device = torch.device(\"cuda\" if torch.cuda.is_available() else \"cpu\")\n",
    "\n",
    "# adding the parameters to the dictionary\n",
    "for i, shape in enumerate(layers):\n",
    "    add_linear_layer(parameters, shape, device, i)\n",
    "\n",
    "parameters.keys()"
   ]
  },
  {
   "cell_type": "markdown",
   "id": "8bfd2c8e",
   "metadata": {},
   "source": [
    "## Defining the required functions\n",
    "\n",
    "In this section, we should define the required functions. For each of these functions, the inputs and the desired outputs are given and you should write all or part of the function. **You are not allowed to use the activation functions and the loss functions implemented in torch**."
   ]
  },
  {
   "cell_type": "markdown",
   "id": "f3b413d8",
   "metadata": {},
   "source": [
    "Computing affine and relu outputs:"
   ]
  },
  {
   "cell_type": "code",
   "execution_count": 10,
   "id": "bebeeb0e",
   "metadata": {},
   "outputs": [],
   "source": [
    "def affine_forward(x, w, b):\n",
    "    \"\"\"\n",
    "    Affine transformation: computes output of a linear layer.\n",
    "    \n",
    "    Inputs:\n",
    "    - x: Input tensor (B, D)\n",
    "    - w: Weight tensor (D, H)\n",
    "    - b: Bias tensor (H,)\n",
    "    \n",
    "    Returns:\n",
    "    - out: Output tensor after affine transformation (B, H)\n",
    "    \"\"\"\n",
    "    out = torch.matmul(x, w) + b\n",
    "    return out\n",
    "\n",
    "\n",
    "def relu(x):\n",
    "    \"\"\"\n",
    "    ReLU activation function.\n",
    "    \n",
    "    Inputs:\n",
    "    - x: Input tensor\n",
    "    \n",
    "    Returns:\n",
    "    - out: Output tensor after ReLU activation\n",
    "    \"\"\"\n",
    "    out = torch.maximum(torch.tensor(0.0, device=x.device), x)\n",
    "    return out\n",
    "    "
   ]
  },
  {
   "cell_type": "markdown",
   "id": "5d9baa5e",
   "metadata": {},
   "source": [
    "Function `model` returns output of the whole model for the input `x` using the parameters:"
   ]
  },
  {
   "cell_type": "code",
   "execution_count": 11,
   "id": "d2562962",
   "metadata": {},
   "outputs": [],
   "source": [
    "def model(x: torch.Tensor, parameters, num_layers=num_layers):\n",
    "    \"\"\"\n",
    "    Function to compute output of the entire model for input `x` using the given parameters.\n",
    "    \n",
    "    Inputs:\n",
    "    - x: Input tensor (B, *)\n",
    "    - parameters: Dictionary containing weights and biases for each layer\n",
    "    - num_layers: Number of layers in the model\n",
    "    \n",
    "    Returns:\n",
    "    - output: Output tensor of the model (B, num_classes)\n",
    "    \"\"\"\n",
    "    B = x.shape[0]\n",
    "    x = x.view(B, -1)\n",
    "    for i in range(num_layers):\n",
    "        w = parameters[f'w{i}']\n",
    "        b = parameters[f'b{i}']\n",
    "        x = affine_forward(x, w, b)\n",
    "        if i < num_layers - 1:\n",
    "            x = relu(x)\n",
    "    output = x\n",
    "    return output\n"
   ]
  },
  {
   "cell_type": "markdown",
   "id": "d17a9b4c",
   "metadata": {},
   "source": [
    "Implementing cross entropy loss:"
   ]
  },
  {
   "cell_type": "code",
   "execution_count": 12,
   "id": "6959621c",
   "metadata": {},
   "outputs": [],
   "source": [
    "def cross_entropy_loss(scores, y):\n",
    "    \"\"\"\n",
    "    Cross-entropy loss function.\n",
    "    \n",
    "    Inputs:\n",
    "    - scores: Predicted scores from the model (B, num_classes)\n",
    "    - y: True labels (B,)\n",
    "    \n",
    "    Returns:\n",
    "    - loss: Scalar cross-entropy loss\n",
    "    \"\"\"\n",
    "    n = len(y)\n",
    "    exp_scores = torch.exp(scores)\n",
    "    probs = exp_scores / torch.sum(exp_scores, dim=1, keepdim=True)\n",
    "    correct_logprobs = -torch.log(probs[range(n), y])\n",
    "    loss = torch.sum(correct_logprobs) / n\n",
    "    return loss"
   ]
  },
  {
   "cell_type": "markdown",
   "id": "15a589af",
   "metadata": {},
   "source": [
    "Implementing a function for optimizing paramters and a function to zeroing out their gradients:"
   ]
  },
  {
   "cell_type": "code",
   "execution_count": 13,
   "id": "3121c147",
   "metadata": {},
   "outputs": [],
   "source": [
    "def sgd_optimizer(parameters: Dict[str, torch.Tensor], learning_rate=0.001):\n",
    "    \"\"\"\n",
    "    SGD optimizer function to update parameters based on gradients and zero out gradients afterward.\n",
    "\n",
    "    Inputs:\n",
    "    - parameters: Dictionary containing weights and biases for each layer\n",
    "    - learning_rate: Learning rate for gradient descent\n",
    "\n",
    "    Returns:\n",
    "    - None (updates parameters in place)\n",
    "    \"\"\"\n",
    "    with torch.no_grad():\n",
    "        for param_name in parameters:\n",
    "            parameters[param_name] -= learning_rate * parameters[param_name].grad\n",
    "            parameters[param_name].grad.zero_()\n"
   ]
  },
  {
   "cell_type": "markdown",
   "id": "e17b4cf8",
   "metadata": {},
   "source": [
    "Training functions:"
   ]
  },
  {
   "cell_type": "code",
   "execution_count": 14,
   "id": "76c0f03b",
   "metadata": {},
   "outputs": [],
   "source": [
    "def accuracy(y_pred: np.ndarray, y_true: np.ndarray):\n",
    "    \"\"\"\n",
    "    Calculate accuracy given predicted and true labels.\n",
    "    \n",
    "    Inputs:\n",
    "    - y_pred: Predicted labels (numpy array)\n",
    "    - y_true: True labels (numpy array)\n",
    "    \n",
    "    Returns:\n",
    "    - acc: Accuracy (float)\n",
    "    \"\"\"\n",
    "    correct = np.sum(y_pred == y_true)\n",
    "    total = len(y_true)\n",
    "    acc = correct / total\n",
    "    return acc\n",
    "\n",
    "\n",
    "def train(train_loader, parameters, learning_rate=0.001, epoch=None):\n",
    "    \"\"\"\n",
    "    Training loop for a single epoch.\n",
    "\n",
    "    Inputs:\n",
    "    - train_loader: DataLoader for training dataset\n",
    "    - parameters: Dictionary containing weights and biases for each layer\n",
    "    - learning_rate: Learning rate for SGD optimizer\n",
    "    - epoch: Current epoch number (optional)\n",
    "\n",
    "    Returns:\n",
    "    - train_loss: Average training loss for the epoch\n",
    "    - train_acc: Training accuracy for the epoch\n",
    "    \"\"\"\n",
    "    train_loss = 0\n",
    "    N_train = len(train_loader.dataset)\n",
    "    Y = []\n",
    "    Y_pred = []\n",
    "    \n",
    "    for i, (x, y) in enumerate(train_loader):\n",
    "        x = x.to(device)\n",
    "        y = y.to(device)\n",
    "        scores = model(x, parameters)\n",
    "        loss = cross_entropy_loss(scores, y)\n",
    "        loss.backward()\n",
    "        sgd_optimizer(parameters, learning_rate)\n",
    "        \n",
    "        train_loss += loss.item()\n",
    "        y_pred = scores.argmax(dim=-1)\n",
    "        Y.append(y.cpu().numpy())\n",
    "        Y_pred.append(y_pred.cpu().numpy())\n",
    "    \n",
    "    Y = np.concatenate(Y)\n",
    "    Y_pred = np.concatenate(Y_pred)\n",
    "    train_acc = accuracy(Y_pred, Y)\n",
    "    \n",
    "    print(f'Epoch {epoch}, Train Loss: {train_loss / len(train_loader)}, Train Accuracy: {train_acc}')\n",
    "    \n",
    "    return train_loss / len(train_loader), train_acc\n",
    "\n",
    "def validate(loader, parameters, set_name=None):\n",
    "    \"\"\"\n",
    "    Validation loop to evaluate model performance on a dataset.\n",
    "    \n",
    "    Inputs:\n",
    "    - loader: DataLoader for validation/test dataset\n",
    "    - parameters: Dictionary containing weights and biases for each layer\n",
    "    - set_name: Name of the dataset ('train', 'val', 'test')\n",
    "    \n",
    "    Returns:\n",
    "    - val_loss: Average validation loss\n",
    "    - val_acc: Validation accuracy\n",
    "    \"\"\"\n",
    "    total_loss = 0\n",
    "    N = len(loader.dataset)\n",
    "    Y = []\n",
    "    Y_pred = []\n",
    "    \n",
    "    for i, (x, y) in enumerate(loader):\n",
    "        x = x.to(device)\n",
    "        y = y.to(device)\n",
    "        scores = model(x, parameters)\n",
    "        loss = cross_entropy_loss(scores, y)\n",
    "        total_loss += loss.item()\n",
    "        \n",
    "        y_pred = scores.argmax(dim=-1)\n",
    "        Y.append(y.cpu().numpy())\n",
    "        Y_pred.append(y_pred.cpu().numpy())\n",
    "    \n",
    "    Y = np.concatenate(Y)\n",
    "    Y_pred = np.concatenate(Y_pred)\n",
    "    val_loss = total_loss / len(loader)\n",
    "    val_acc = accuracy(Y_pred, Y)\n",
    "    \n",
    "    print(f'{set_name} set, Loss: {val_loss}, Accuracy: {val_acc}')\n",
    "    \n",
    "    return val_loss, val_acc\n"
   ]
  },
  {
   "cell_type": "code",
   "execution_count": 15,
   "id": "87ebb4b6",
   "metadata": {},
   "outputs": [],
   "source": [
    "train_losses = []\n",
    "test_losses = []\n",
    "train_accuracies = []\n",
    "test_accuracies = []"
   ]
  },
  {
   "cell_type": "code",
   "execution_count": 16,
   "id": "28d4eb0b",
   "metadata": {},
   "outputs": [],
   "source": [
    "def train_model(dataloaders, num_epochs, learning_rate=0.001):\n",
    "    \"\"\"\n",
    "    Main function to train the model for multiple epochs and track performance metrics.\n",
    "    \n",
    "    Inputs:\n",
    "    - dataloaders: List containing train and test DataLoader objects\n",
    "    - num_epochs: Number of epochs to train\n",
    "    - learning_rate: Learning rate for SGD optimizer\n",
    "    \n",
    "    Returns:\n",
    "    - None (prints and plots training/validation metrics)\n",
    "    \"\"\"\n",
    "    train_loader, test_loader = dataloaders\n",
    "    \n",
    "    for epoch in range(num_epochs):\n",
    "        train_loss, train_acc = train(train_loader, parameters, learning_rate, epoch)\n",
    "        train_losses.append(train_loss)\n",
    "        train_accuracies.append(train_acc)\n",
    "        \n",
    "        test_loss, test_acc = validate(test_loader, parameters, set_name='Test')\n",
    "        test_losses.append(test_loss)\n",
    "        test_accuracies.append(test_acc)\n",
    "    \n",
    "    # Plotting the loss and accuracy curves\n",
    "    plt.figure(figsize=(12, 4))\n",
    "    plt.subplot(1, 2, 1)\n",
    "    plt.plot(train_losses, label='Train')\n",
    "    plt.plot(test_losses, label='Test')\n",
    "    plt.title('Loss')\n",
    "    plt.legend()\n",
    "    \n",
    "    plt.subplot(1, 2, 2)\n",
    "    plt.plot(train_accuracies, label='Train')\n",
    "    plt.plot(test_accuracies, label='Test')\n",
    "    plt.title('Accuracy')\n",
    "    plt.legend()\n",
    "    \n",
    "    plt.show()"
   ]
  },
  {
   "cell_type": "code",
   "execution_count": 17,
   "id": "2ec4bdd2",
   "metadata": {},
   "outputs": [
    {
     "name": "stdout",
     "output_type": "stream",
     "text": [
      "Epoch 0, Train Loss: 2.2903990186353735, Train Accuracy: 0.33636666666666665\n",
      "Test set, Loss: 2.2713160454087955, Accuracy: 0.4539\n",
      "Epoch 1, Train Loss: 2.1405899651777514, Train Accuracy: 0.43685\n",
      "Test set, Loss: 1.7590243011523203, Accuracy: 0.4931\n",
      "Epoch 2, Train Loss: 1.244391619333072, Train Accuracy: 0.5511666666666667\n",
      "Test set, Loss: 0.986108251058372, Accuracy: 0.5952\n",
      "Epoch 3, Train Loss: 0.8787925341236058, Train Accuracy: 0.6587666666666666\n",
      "Test set, Loss: 0.8628346506197742, Accuracy: 0.6689\n",
      "Epoch 4, Train Loss: 0.776548709378822, Train Accuracy: 0.7161833333333333\n",
      "Test set, Loss: 0.7566298595659292, Accuracy: 0.7307\n",
      "Epoch 5, Train Loss: 0.7111156112921517, Train Accuracy: 0.74435\n",
      "Test set, Loss: 0.7014845651426133, Accuracy: 0.7497\n",
      "Epoch 6, Train Loss: 0.6568791791955545, Train Accuracy: 0.7645833333333333\n",
      "Test set, Loss: 0.6628554820255109, Accuracy: 0.7617\n",
      "Epoch 7, Train Loss: 0.6157581287025135, Train Accuracy: 0.7801333333333333\n",
      "Test set, Loss: 0.6307589430717906, Accuracy: 0.7777\n",
      "Epoch 8, Train Loss: 0.5823784820370074, Train Accuracy: 0.79425\n",
      "Test set, Loss: 0.6082357952169551, Accuracy: 0.7815\n",
      "Epoch 9, Train Loss: 0.5549361624125478, Train Accuracy: 0.8059166666666666\n",
      "Test set, Loss: 0.5966258109754817, Accuracy: 0.786\n",
      "Epoch 10, Train Loss: 0.5338376876610175, Train Accuracy: 0.8135333333333333\n",
      "Test set, Loss: 0.555506440294776, Accuracy: 0.8035\n",
      "Epoch 11, Train Loss: 0.5172155923934888, Train Accuracy: 0.8191333333333334\n",
      "Test set, Loss: 0.5361290031177982, Accuracy: 0.8112\n",
      "Epoch 12, Train Loss: 0.501126799946909, Train Accuracy: 0.82525\n",
      "Test set, Loss: 0.5345761819629912, Accuracy: 0.8108\n",
      "Epoch 13, Train Loss: 0.48773447154109667, Train Accuracy: 0.8293\n",
      "Test set, Loss: 0.5110809808703745, Accuracy: 0.8195\n",
      "Epoch 14, Train Loss: 0.47507189937047106, Train Accuracy: 0.8343833333333334\n",
      "Test set, Loss: 0.4973057734358842, Accuracy: 0.8293\n",
      "Epoch 15, Train Loss: 0.46440482889411294, Train Accuracy: 0.8372\n",
      "Test set, Loss: 0.5146721016829181, Accuracy: 0.8145\n",
      "Epoch 16, Train Loss: 0.4532828585330103, Train Accuracy: 0.8415333333333334\n",
      "Test set, Loss: 0.476887650360727, Accuracy: 0.8295\n",
      "Epoch 17, Train Loss: 0.44426963500567335, Train Accuracy: 0.84445\n",
      "Test set, Loss: 0.5094093849324877, Accuracy: 0.8168\n",
      "Epoch 18, Train Loss: 0.4351519041700658, Train Accuracy: 0.8488833333333333\n",
      "Test set, Loss: 0.47083379309268514, Accuracy: 0.8341\n",
      "Epoch 19, Train Loss: 0.42585407492956884, Train Accuracy: 0.85015\n",
      "Test set, Loss: 0.47144728101742495, Accuracy: 0.8327\n",
      "Epoch 20, Train Loss: 0.41723602906917967, Train Accuracy: 0.8530666666666666\n",
      "Test set, Loss: 0.44307218036454193, Accuracy: 0.8407\n",
      "Epoch 21, Train Loss: 0.40951138590254, Train Accuracy: 0.8558666666666667\n",
      "Test set, Loss: 0.4461546217560009, Accuracy: 0.8417\n",
      "Epoch 22, Train Loss: 0.4012735491272991, Train Accuracy: 0.8588666666666667\n",
      "Test set, Loss: 0.4402612564480229, Accuracy: 0.8445\n",
      "Epoch 23, Train Loss: 0.3942059231941888, Train Accuracy: 0.8602666666666666\n",
      "Test set, Loss: 0.4271997514234227, Accuracy: 0.8476\n",
      "Epoch 24, Train Loss: 0.38744446400132004, Train Accuracy: 0.8626833333333334\n",
      "Test set, Loss: 0.4247203210167065, Accuracy: 0.8476\n"
     ]
    },
    {
     "data": {
      "image/png": "[encoded data removed]",
      "text/plain": [
       "<Figure size 1200x400 with 2 Axes>"
      ]
     },
     "metadata": {},
     "output_type": "display_data"
    }
   ],
   "source": [
    "train_model([train_loader, test_loader], num_epochs=25, learning_rate=0.005)"
   ]
  },
  {
   "cell_type": "code",
   "execution_count": null,
   "id": "ceb5783f",
   "metadata": {},
   "outputs": [],
   "source": [
    "print(f'Final test accuracy: {test_accuracies[-1]}')"
   ]
  },
  {
   "cell_type": "markdown",
   "id": "a5e128ed",
   "metadata": {},
   "source": [
    "## Visualization of the labels and predictions\n",
    "\n",
    "In this section, you should visual one image from each class and show both the actual label and the predicted label for that image."
   ]
  },
  {
   "cell_type": "code",
   "execution_count": 19,
   "id": "6c0b79fd",
   "metadata": {},
   "outputs": [
    {
     "data": {
      "image/png": "[encoded data removed]",
      "text/plain": [
       "<Figure size 640x480 with 10 Axes>"
      ]
     },
     "metadata": {},
     "output_type": "display_data"
    }
   ],
   "source": [
    "## FILL HERE\n",
    "import matplotlib.pyplot as plt\n",
    "\n",
    "def visualize_predictions(test_loader, parameters, num_classes):\n",
    "    # Get one image from each class\n",
    "    class_samples = {i: None for i in range(num_classes)}\n",
    "    class_labels = {i: None for i in range(num_classes)}\n",
    "    cnt  = 0\n",
    "    with torch.no_grad():\n",
    "        for x, y in test_loader:\n",
    "            for i in range(len(y)):\n",
    "                label = y[i].item()\n",
    "                if class_samples[label] is None:\n",
    "                    cnt +=1\n",
    "                    class_samples[label] = x[i].unsqueeze(0)\n",
    "                    class_labels[label] = y[i].unsqueeze(0)\n",
    "            if cnt == num_classes:\n",
    "                break\n",
    "\n",
    "    # Pass these images through the model to get predictions\n",
    "    for label, img_tensor in class_samples.items():\n",
    "        img_tensor = img_tensor.to(device)\n",
    "        pred = model(img_tensor, parameters)\n",
    "        predicted_label = pred.argmax(dim=-1).item()\n",
    "        \n",
    "        # Plot the image\n",
    "        img = img_tensor.squeeze().cpu().numpy()\n",
    "        plt.subplot(2, 5, label + 1)\n",
    "        plt.imshow(img, cmap='gray')\n",
    "        plt.title(f\"Actual: {label}\\nPredicted: {predicted_label}\")\n",
    "        plt.axis('off')\n",
    "\n",
    "    plt.tight_layout()\n",
    "    plt.show()\n",
    "\n",
    "visualize_predictions(test_loader, parameters, len(unique_labels))\n"
   ]
  }
 ],
 "metadata": {
  "kernelspec": {
   "display_name": "Python 3",
   "language": "python",
   "name": "python3"
  },
  "language_info": {
   "codemirror_mode": {
    "name": "ipython",
    "version": 3
   },
   "file_extension": ".py",
   "mimetype": "text/x-python",
   "name": "python",
   "nbconvert_exporter": "python",
   "pygments_lexer": "ipython3",
   "version": "3.11.5"
  }
 },
 "nbformat": 4,
 "nbformat_minor": 5
}
